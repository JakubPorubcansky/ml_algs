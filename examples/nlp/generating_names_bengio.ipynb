{
 "cells": [
  {
   "cell_type": "markdown",
   "metadata": {},
   "source": [
    "Following https://www.jmlr.org/papers/volume3/bengio03a/bengio03a.pdf"
   ]
  },
  {
   "cell_type": "code",
   "execution_count": 1,
   "metadata": {},
   "outputs": [],
   "source": [
    "from sklearn.model_selection import train_test_split\n",
    "import torch\n",
    "import torch.nn.functional as F\n",
    "import matplotlib.pyplot as plt\n",
    "\n",
    "from ml_algs.neural_nets.ybengio_03 import BengioNet\n",
    "\n",
    "current_dir = %pwd"
   ]
  },
  {
   "cell_type": "markdown",
   "metadata": {},
   "source": [
    "#### Prepare data"
   ]
  },
  {
   "cell_type": "code",
   "execution_count": 2,
   "metadata": {},
   "outputs": [],
   "source": [
    "with open('./data/names.txt', 'r') as f:\n",
    "    names = [line.strip() for line in f.readlines()]"
   ]
  },
  {
   "cell_type": "code",
   "execution_count": 3,
   "metadata": {},
   "outputs": [],
   "source": [
    "char_to_int = {}\n",
    "all_chars = ['.'] + sorted(list(set(''.join([''.join(n.lower().split(' ')) for n in names]))))\n",
    "n_all_chars = len(all_chars)\n",
    "\n",
    "char_to_int = {ch: i for i, ch in enumerate(all_chars)}\n",
    "int_to_char = {v: k for k, v in char_to_int.items()}"
   ]
  },
  {
   "cell_type": "code",
   "execution_count": 4,
   "metadata": {},
   "outputs": [],
   "source": [
    "n_context_letters = 3\n",
    "X_first, Y_first = [], []\n",
    "X_last, Y_last = [], []\n",
    "\n",
    "for name in names:\n",
    "    first_name, last_name = name.lower().split(' ')\n",
    "    ctx_first = [0] * n_context_letters\n",
    "    ctx_last = [0] * n_context_letters\n",
    "\n",
    "    first_name += \".\"\n",
    "    for ch in first_name:\n",
    "        char_idx = char_to_int[ch]\n",
    "        X_first.append(ctx_first)\n",
    "        Y_first.append(char_idx)\n",
    "        ctx_first = ctx_first[1:] + [char_idx]\n",
    "\n",
    "    last_name += \".\"\n",
    "    for ch in last_name:\n",
    "        char_idx = char_to_int[ch]\n",
    "        X_last.append(ctx_last)\n",
    "        Y_last.append(char_idx)\n",
    "        ctx_last = ctx_last[1:] + [char_idx]\n",
    "\n",
    "X_first = torch.tensor(X_first)\n",
    "Y_first = torch.tensor(Y_first)\n",
    "X_last = torch.tensor(X_last)\n",
    "Y_last = torch.tensor(Y_last)"
   ]
  },
  {
   "cell_type": "code",
   "execution_count": 5,
   "metadata": {},
   "outputs": [],
   "source": [
    "Xtr_first, Xte_first, Ytr_first, Yte_first = train_test_split(X_first, Y_first, train_size=0.9)\n",
    "Xtr_last, Xte_last, Ytr_last, Yte_last = train_test_split(X_last, Y_last, train_size=0.9)"
   ]
  },
  {
   "cell_type": "markdown",
   "metadata": {},
   "source": [
    "#### Train models"
   ]
  },
  {
   "cell_type": "code",
   "execution_count": 6,
   "metadata": {},
   "outputs": [],
   "source": [
    "# y = b + Wz + U tanh(d + Hz) where z = Cx\n",
    "\n",
    "nn_first = BengioNet(\n",
    "    n_all_letters=n_all_chars, \n",
    "    n_context_letters=n_context_letters, \n",
    "    n_features=10, \n",
    "    n_hidden=200, \n",
    "    learning_rate=0.1,\n",
    "    regularization_rate=0.01)\n",
    "\n",
    "nn_first.train(Xtr_first, Ytr_first, batch_size=32, n_epochs=100000)"
   ]
  },
  {
   "cell_type": "code",
   "execution_count": 7,
   "metadata": {},
   "outputs": [],
   "source": [
    "nn_last = BengioNet(\n",
    "    n_all_letters=n_all_chars, \n",
    "    n_context_letters=n_context_letters, \n",
    "    n_features=14,\n",
    "    n_hidden=200, \n",
    "    learning_rate=0.1,\n",
    "    regularization_rate=0.01)\n",
    "\n",
    "nn_last.train(Xtr_last, Ytr_last, batch_size=32, n_epochs=100000)"
   ]
  },
  {
   "cell_type": "markdown",
   "metadata": {},
   "source": [
    "#### Evaluate loss"
   ]
  },
  {
   "cell_type": "code",
   "execution_count": 8,
   "metadata": {},
   "outputs": [
    {
     "data": {
      "text/plain": [
       "<matplotlib.legend.Legend at 0x208c883dd30>"
      ]
     },
     "execution_count": 8,
     "metadata": {},
     "output_type": "execute_result"
    },
    {
     "data": {
      "image/png": "[encoded data removed]",
      "text/plain": [
       "<Figure size 640x480 with 1 Axes>"
      ]
     },
     "metadata": {},
     "output_type": "display_data"
    }
   ],
   "source": [
    "plt.plot(nn_first.losses, label='train loss first name')\n",
    "plt.plot(nn_last.losses, label='train loss last name')\n",
    "plt.legend()"
   ]
  },
  {
   "cell_type": "code",
   "execution_count": 9,
   "metadata": {},
   "outputs": [
    {
     "data": {
      "text/plain": [
       "tensor(1.1344, grad_fn=<NegBackward0>)"
      ]
     },
     "execution_count": 9,
     "metadata": {},
     "output_type": "execute_result"
    }
   ],
   "source": [
    "probs = nn_first.eval(Xte_first)\n",
    "nn_first.calculate_loss(probs, Yte_first)"
   ]
  },
  {
   "cell_type": "code",
   "execution_count": 10,
   "metadata": {},
   "outputs": [
    {
     "data": {
      "text/plain": [
       "tensor(1.3049, grad_fn=<NegBackward0>)"
      ]
     },
     "execution_count": 10,
     "metadata": {},
     "output_type": "execute_result"
    }
   ],
   "source": [
    "probs = nn_last.eval(Xte_last)\n",
    "nn_last.calculate_loss(probs, Yte_last)"
   ]
  },
  {
   "cell_type": "markdown",
   "metadata": {},
   "source": [
    "#### Score model - generate new names"
   ]
  },
  {
   "cell_type": "code",
   "execution_count": 14,
   "metadata": {},
   "outputs": [
    {
     "name": "stdout",
     "output_type": "stream",
     "text": [
      "amandonald nes\n",
      "michasey ramirez\n",
      "rhony sher\n",
      "mela hortineda\n",
      "alexis smith\n",
      "david phillo\n",
      "debin shaller\n",
      "sheil halliams\n",
      "laura mackson\n",
      "christin sterson\n"
     ]
    }
   ],
   "source": [
    "for _ in range(10):\n",
    "    ctx_first = [0] * 3\n",
    "    ctx_last = [0] * 3\n",
    "    out = \"\"\n",
    "    \n",
    "    while True:\n",
    "        probs = nn_first.eval(torch.tensor(ctx_first))\n",
    "        idx = torch.multinomial(probs, num_samples=1).item()\n",
    "\n",
    "        if idx == 0:\n",
    "            break\n",
    "        \n",
    "        ctx_first = ctx_first[1:] + [idx]\n",
    "        out += int_to_char[idx]\n",
    "\n",
    "    out += \" \"\n",
    "\n",
    "    while True:\n",
    "        probs = nn_last.eval(torch.tensor(ctx_last))\n",
    "        idx = torch.multinomial(probs, num_samples=1).item()\n",
    "\n",
    "        if idx == 0:\n",
    "            break\n",
    "        \n",
    "        ctx_last = ctx_last[1:] + [idx]\n",
    "        out += int_to_char[idx]\n",
    "\n",
    "    print(out)\n",
    "        "
   ]
  }
 ],
 "metadata": {
  "kernelspec": {
   "display_name": "ml-algs-nmGCbx0e-py3.12",
   "language": "python",
   "name": "python3"
  },
  "language_info": {
   "codemirror_mode": {
    "name": "ipython",
    "version": 3
   },
   "file_extension": ".py",
   "mimetype": "text/x-python",
   "name": "python",
   "nbconvert_exporter": "python",
   "pygments_lexer": "ipython3",
   "version": "3.12.1"
  }
 },
 "nbformat": 4,
 "nbformat_minor": 2
}
